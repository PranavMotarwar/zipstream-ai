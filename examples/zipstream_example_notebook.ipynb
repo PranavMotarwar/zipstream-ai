{
  "nbformat": 4,
  "nbformat_minor": 0,
  "metadata": {
    "colab": {
      "provenance": []
    },
    "kernelspec": {
      "name": "python3",
      "display_name": "Python 3"
    },
    "language_info": {
      "name": "python"
    }
  },
  "cells": [
    {
      "cell_type": "code",
      "execution_count": 1,
      "metadata": {
        "id": "gFfDeY3FRK7J",
        "colab": {
          "base_uri": "https://localhost:8080/"
        },
        "outputId": "bdfca35d-dba5-468f-e6de-1dd278fc8aea"
      },
      "outputs": [
        {
          "output_type": "stream",
          "name": "stdout",
          "text": [
            "Requirement already satisfied: zipstream-ai==0.1.3 in /usr/local/lib/python3.12/dist-packages (0.1.3)\n",
            "Requirement already satisfied: google-generativeai<0.5.0,>=0.4.1 in /usr/local/lib/python3.12/dist-packages (from zipstream-ai==0.1.3) (0.4.1)\n",
            "Requirement already satisfied: openai<2.0.0,>=1.10.0 in /usr/local/lib/python3.12/dist-packages (from zipstream-ai==0.1.3) (1.106.1)\n",
            "Requirement already satisfied: pandas<3.0,>=2.0 in /usr/local/lib/python3.12/dist-packages (from zipstream-ai==0.1.3) (2.2.2)\n",
            "Requirement already satisfied: pillow<11.0.0,>=10.0.0 in /usr/local/lib/python3.12/dist-packages (from zipstream-ai==0.1.3) (10.4.0)\n",
            "Requirement already satisfied: python-dotenv<2.0.0,>=1.0.0 in /usr/local/lib/python3.12/dist-packages (from zipstream-ai==0.1.3) (1.1.1)\n",
            "Requirement already satisfied: typer<0.10.0,>=0.9.0 in /usr/local/lib/python3.12/dist-packages (from zipstream-ai==0.1.3) (0.9.4)\n",
            "Requirement already satisfied: google-ai-generativelanguage==0.4.0 in /usr/local/lib/python3.12/dist-packages (from google-generativeai<0.5.0,>=0.4.1->zipstream-ai==0.1.3) (0.4.0)\n",
            "Requirement already satisfied: google-auth>=2.15.0 in /usr/local/lib/python3.12/dist-packages (from google-generativeai<0.5.0,>=0.4.1->zipstream-ai==0.1.3) (2.38.0)\n",
            "Requirement already satisfied: google-api-core in /usr/local/lib/python3.12/dist-packages (from google-generativeai<0.5.0,>=0.4.1->zipstream-ai==0.1.3) (2.25.1)\n",
            "Requirement already satisfied: protobuf in /usr/local/lib/python3.12/dist-packages (from google-generativeai<0.5.0,>=0.4.1->zipstream-ai==0.1.3) (4.25.8)\n",
            "Requirement already satisfied: pydantic in /usr/local/lib/python3.12/dist-packages (from google-generativeai<0.5.0,>=0.4.1->zipstream-ai==0.1.3) (2.11.7)\n",
            "Requirement already satisfied: tqdm in /usr/local/lib/python3.12/dist-packages (from google-generativeai<0.5.0,>=0.4.1->zipstream-ai==0.1.3) (4.67.1)\n",
            "Requirement already satisfied: typing-extensions in /usr/local/lib/python3.12/dist-packages (from google-generativeai<0.5.0,>=0.4.1->zipstream-ai==0.1.3) (4.15.0)\n",
            "Requirement already satisfied: proto-plus<2.0.0dev,>=1.22.3 in /usr/local/lib/python3.12/dist-packages (from google-ai-generativelanguage==0.4.0->google-generativeai<0.5.0,>=0.4.1->zipstream-ai==0.1.3) (1.26.1)\n",
            "Requirement already satisfied: anyio<5,>=3.5.0 in /usr/local/lib/python3.12/dist-packages (from openai<2.0.0,>=1.10.0->zipstream-ai==0.1.3) (4.10.0)\n",
            "Requirement already satisfied: distro<2,>=1.7.0 in /usr/local/lib/python3.12/dist-packages (from openai<2.0.0,>=1.10.0->zipstream-ai==0.1.3) (1.9.0)\n",
            "Requirement already satisfied: httpx<1,>=0.23.0 in /usr/local/lib/python3.12/dist-packages (from openai<2.0.0,>=1.10.0->zipstream-ai==0.1.3) (0.28.1)\n",
            "Requirement already satisfied: jiter<1,>=0.4.0 in /usr/local/lib/python3.12/dist-packages (from openai<2.0.0,>=1.10.0->zipstream-ai==0.1.3) (0.10.0)\n",
            "Requirement already satisfied: sniffio in /usr/local/lib/python3.12/dist-packages (from openai<2.0.0,>=1.10.0->zipstream-ai==0.1.3) (1.3.1)\n",
            "Requirement already satisfied: numpy>=1.26.0 in /usr/local/lib/python3.12/dist-packages (from pandas<3.0,>=2.0->zipstream-ai==0.1.3) (2.0.2)\n",
            "Requirement already satisfied: python-dateutil>=2.8.2 in /usr/local/lib/python3.12/dist-packages (from pandas<3.0,>=2.0->zipstream-ai==0.1.3) (2.9.0.post0)\n",
            "Requirement already satisfied: pytz>=2020.1 in /usr/local/lib/python3.12/dist-packages (from pandas<3.0,>=2.0->zipstream-ai==0.1.3) (2025.2)\n",
            "Requirement already satisfied: tzdata>=2022.7 in /usr/local/lib/python3.12/dist-packages (from pandas<3.0,>=2.0->zipstream-ai==0.1.3) (2025.2)\n",
            "Requirement already satisfied: click<9.0.0,>=7.1.1 in /usr/local/lib/python3.12/dist-packages (from typer<0.10.0,>=0.9.0->zipstream-ai==0.1.3) (8.2.1)\n",
            "Requirement already satisfied: idna>=2.8 in /usr/local/lib/python3.12/dist-packages (from anyio<5,>=3.5.0->openai<2.0.0,>=1.10.0->zipstream-ai==0.1.3) (3.10)\n",
            "Requirement already satisfied: googleapis-common-protos<2.0.0,>=1.56.2 in /usr/local/lib/python3.12/dist-packages (from google-api-core->google-generativeai<0.5.0,>=0.4.1->zipstream-ai==0.1.3) (1.70.0)\n",
            "Requirement already satisfied: requests<3.0.0,>=2.18.0 in /usr/local/lib/python3.12/dist-packages (from google-api-core->google-generativeai<0.5.0,>=0.4.1->zipstream-ai==0.1.3) (2.32.4)\n",
            "Requirement already satisfied: cachetools<6.0,>=2.0.0 in /usr/local/lib/python3.12/dist-packages (from google-auth>=2.15.0->google-generativeai<0.5.0,>=0.4.1->zipstream-ai==0.1.3) (5.5.2)\n",
            "Requirement already satisfied: pyasn1-modules>=0.2.1 in /usr/local/lib/python3.12/dist-packages (from google-auth>=2.15.0->google-generativeai<0.5.0,>=0.4.1->zipstream-ai==0.1.3) (0.4.2)\n",
            "Requirement already satisfied: rsa<5,>=3.1.4 in /usr/local/lib/python3.12/dist-packages (from google-auth>=2.15.0->google-generativeai<0.5.0,>=0.4.1->zipstream-ai==0.1.3) (4.9.1)\n",
            "Requirement already satisfied: certifi in /usr/local/lib/python3.12/dist-packages (from httpx<1,>=0.23.0->openai<2.0.0,>=1.10.0->zipstream-ai==0.1.3) (2025.8.3)\n",
            "Requirement already satisfied: httpcore==1.* in /usr/local/lib/python3.12/dist-packages (from httpx<1,>=0.23.0->openai<2.0.0,>=1.10.0->zipstream-ai==0.1.3) (1.0.9)\n",
            "Requirement already satisfied: h11>=0.16 in /usr/local/lib/python3.12/dist-packages (from httpcore==1.*->httpx<1,>=0.23.0->openai<2.0.0,>=1.10.0->zipstream-ai==0.1.3) (0.16.0)\n",
            "Requirement already satisfied: annotated-types>=0.6.0 in /usr/local/lib/python3.12/dist-packages (from pydantic->google-generativeai<0.5.0,>=0.4.1->zipstream-ai==0.1.3) (0.7.0)\n",
            "Requirement already satisfied: pydantic-core==2.33.2 in /usr/local/lib/python3.12/dist-packages (from pydantic->google-generativeai<0.5.0,>=0.4.1->zipstream-ai==0.1.3) (2.33.2)\n",
            "Requirement already satisfied: typing-inspection>=0.4.0 in /usr/local/lib/python3.12/dist-packages (from pydantic->google-generativeai<0.5.0,>=0.4.1->zipstream-ai==0.1.3) (0.4.1)\n",
            "Requirement already satisfied: six>=1.5 in /usr/local/lib/python3.12/dist-packages (from python-dateutil>=2.8.2->pandas<3.0,>=2.0->zipstream-ai==0.1.3) (1.17.0)\n",
            "Requirement already satisfied: grpcio<2.0.0,>=1.33.2 in /usr/local/lib/python3.12/dist-packages (from google-api-core[grpc]!=2.0.*,!=2.1.*,!=2.10.*,!=2.2.*,!=2.3.*,!=2.4.*,!=2.5.*,!=2.6.*,!=2.7.*,!=2.8.*,!=2.9.*,<3.0.0dev,>=1.34.0->google-ai-generativelanguage==0.4.0->google-generativeai<0.5.0,>=0.4.1->zipstream-ai==0.1.3) (1.74.0)\n",
            "Requirement already satisfied: grpcio-status<2.0.0,>=1.33.2 in /usr/local/lib/python3.12/dist-packages (from google-api-core[grpc]!=2.0.*,!=2.1.*,!=2.10.*,!=2.2.*,!=2.3.*,!=2.4.*,!=2.5.*,!=2.6.*,!=2.7.*,!=2.8.*,!=2.9.*,<3.0.0dev,>=1.34.0->google-ai-generativelanguage==0.4.0->google-generativeai<0.5.0,>=0.4.1->zipstream-ai==0.1.3) (1.62.3)\n",
            "Requirement already satisfied: pyasn1<0.7.0,>=0.6.1 in /usr/local/lib/python3.12/dist-packages (from pyasn1-modules>=0.2.1->google-auth>=2.15.0->google-generativeai<0.5.0,>=0.4.1->zipstream-ai==0.1.3) (0.6.1)\n",
            "Requirement already satisfied: charset_normalizer<4,>=2 in /usr/local/lib/python3.12/dist-packages (from requests<3.0.0,>=2.18.0->google-api-core->google-generativeai<0.5.0,>=0.4.1->zipstream-ai==0.1.3) (3.4.3)\n",
            "Requirement already satisfied: urllib3<3,>=1.21.1 in /usr/local/lib/python3.12/dist-packages (from requests<3.0.0,>=2.18.0->google-api-core->google-generativeai<0.5.0,>=0.4.1->zipstream-ai==0.1.3) (2.5.0)\n"
          ]
        }
      ],
      "source": [
        "pip install zipstream-ai==0.1.3"
      ]
    },
    {
      "cell_type": "code",
      "source": [
        "from zipstream_ai import ZipStreamReader, FileParser, ask\n",
        "\n",
        "# Step 1: Load ZIP archive\n",
        "reader = ZipStreamReader(\"winequality.zip\")\n",
        "\n",
        "# Step 2: List files inside it\n",
        "print(reader.list_files())"
      ],
      "metadata": {
        "colab": {
          "base_uri": "https://localhost:8080/"
        },
        "id": "beslXKD4RL3s",
        "outputId": "12dd7623-9518-46d1-e793-f4a0a5e0f19a"
      },
      "execution_count": 2,
      "outputs": [
        {
          "output_type": "stream",
          "name": "stdout",
          "text": [
            "['winequality-white.csv', '__MACOSX/._winequality-white.csv']\n"
          ]
        }
      ]
    },
    {
      "cell_type": "code",
      "source": [
        "# Step 3: Load the CSV inside the ZIP\n",
        "parser = FileParser(reader)\n",
        "#df = parser.load(\"winequality-white.csv\")\n",
        "df = parser.load(\"winequality-white.csv\")\n",
        "# Step 4: Preview data\n",
        "print(df.head())"
      ],
      "metadata": {
        "colab": {
          "base_uri": "https://localhost:8080/"
        },
        "id": "FRPe1SCtTWhg",
        "outputId": "4015778d-d6f1-4e5e-8253-2e43bde6438e"
      },
      "execution_count": 3,
      "outputs": [
        {
          "output_type": "stream",
          "name": "stdout",
          "text": [
            "   fixed acidity  volatile acidity  citric acid  residual sugar  chlorides  \\\n",
            "0            7.0              0.27         0.36            20.7      0.045   \n",
            "1            6.3              0.30         0.34             1.6      0.049   \n",
            "2            8.1              0.28         0.40             6.9      0.050   \n",
            "3            7.2              0.23         0.32             8.5      0.058   \n",
            "4            7.2              0.23         0.32             8.5      0.058   \n",
            "\n",
            "   free sulfur dioxide  total sulfur dioxide  density    pH  sulphates  \\\n",
            "0                 45.0                 170.0   1.0010  3.00       0.45   \n",
            "1                 14.0                 132.0   0.9940  3.30       0.49   \n",
            "2                 30.0                  97.0   0.9951  3.26       0.44   \n",
            "3                 47.0                 186.0   0.9956  3.19       0.40   \n",
            "4                 47.0                 186.0   0.9956  3.19       0.40   \n",
            "\n",
            "   alcohol  quality  \n",
            "0      8.8        6  \n",
            "1      9.5        6  \n",
            "2     10.1        6  \n",
            "3      9.9        6  \n",
            "4      9.9        6  \n"
          ]
        }
      ]
    },
    {
      "cell_type": "code",
      "source": [
        "import google.generativeai as genai\n",
        "import pandas as pd\n",
        "\n",
        "api_key = \"<YOUR_GEMINI_API_KEY>\"\n",
        "genai.configure(api_key=api_key)\n",
        "\n",
        "model = genai.GenerativeModel(\"models/gemini-1.5-flash-latest\")\n",
        "\n",
        "def ask(df: pd.DataFrame, query: str) -> str:\n",
        "    prompt = f\"\"\"You are given the following pandas dataframe. {query}\n",
        "\n",
        "{df.head(10).to_markdown()}\n",
        "\"\"\"\n",
        "    response = model.generate_content(prompt)\n",
        "    return response.text"
      ],
      "metadata": {
        "id": "jHhYjsQubxd3"
      },
      "execution_count": 5,
      "outputs": []
    },
    {
      "cell_type": "code",
      "source": [
        "question = \"Which 3 wine samples have the highest alcohol content?\"\n",
        "response = ask(df, question)\n",
        "print(\"\\nGemini Response:\\n\", response)"
      ],
      "metadata": {
        "colab": {
          "base_uri": "https://localhost:8080/",
          "height": 662
        },
        "id": "CxEiLY4bcd6G",
        "outputId": "24c40ea6-97f9-4a24-f3c0-53562ddf3493"
      },
      "execution_count": 6,
      "outputs": [
        {
          "output_type": "stream",
          "name": "stdout",
          "text": [
            "\n",
            "Gemini Response:\n",
            " Here's how to find the 3 wine samples with the highest alcohol content using pandas:\n",
            "\n",
            "1. **Sort the DataFrame:** We'll sort the DataFrame by the 'alcohol' column in descending order.\n",
            "\n",
            "2. **Select the top 3:**  We'll then select the first 3 rows of the sorted DataFrame.\n",
            "\n",
            "Here's the Python code using pandas:\n",
            "\n",
            "```python\n",
            "import pandas as pd\n",
            "\n",
            "data = {'fixed acidity': [7, 6.3, 8.1, 7.2, 7.2, 8.1, 6.2, 7, 6.3, 8.1],\n",
            "        'volatile acidity': [0.27, 0.3, 0.28, 0.23, 0.23, 0.28, 0.32, 0.27, 0.3, 0.22],\n",
            "        'citric acid': [0.36, 0.34, 0.4, 0.32, 0.32, 0.4, 0.16, 0.36, 0.34, 0.43],\n",
            "        'residual sugar': [20.7, 1.6, 6.9, 8.5, 8.5, 6.9, 7, 20.7, 1.6, 1.5],\n",
            "        'chlorides': [0.045, 0.049, 0.05, 0.058, 0.058, 0.05, 0.045, 0.045, 0.049, 0.044],\n",
            "        'free sulfur dioxide': [45, 14, 30, 47, 47, 30, 30, 45, 14, 28],\n",
            "        'total sulfur dioxide': [170, 132, 97, 186, 186, 97, 136, 170, 132, 129],\n",
            "        'density': [1.001, 0.994, 0.9951, 0.9956, 0.9956, 0.9951, 0.9949, 1.001, 0.994, 0.9938],\n",
            "        'pH': [3, 3.3, 3.26, 3.19, 3.19, 3.26, 3.18, 3, 3.3, 3.22],\n",
            "        'sulphates': [0.45, 0.49, 0.44, 0.4, 0.4, 0.44, 0.47, 0.45, 0.49, 0.45],\n",
            "        'alcohol': [8.8, 9.5, 10.1, 9.9, 9.9, 10.1, 9.6, 8.8, 9.5, 11],\n",
            "        'quality': [6, 6, 6, 6, 6, 6, 6, 6, 6, 6]}\n",
            "\n",
            "df = pd.DataFrame(data)\n",
            "\n",
            "top_3_alcohol = df.sort_values('alcohol', ascending=False).head(3)\n",
            "print(top_3_alcohol)\n",
            "\n",
            "```\n",
            "\n",
            "This will output a DataFrame showing the 3 wine samples with the highest alcohol content.  The index numbers will identify the specific samples in the original data.\n",
            "\n"
          ]
        }
      ]
    },
    {
      "cell_type": "code",
      "source": [
        "top_3_alcohol = df.sort_values('alcohol', ascending=False).head(3)\n",
        "print(top_3_alcohol)"
      ],
      "metadata": {
        "colab": {
          "base_uri": "https://localhost:8080/"
        },
        "id": "oToduwo-c-vZ",
        "outputId": "c30e3a47-87ef-4c0a-b9d5-6db514502aad"
      },
      "execution_count": 7,
      "outputs": [
        {
          "output_type": "stream",
          "name": "stdout",
          "text": [
            "      fixed acidity  volatile acidity  citric acid  residual sugar  chlorides  \\\n",
            "3918            6.4             0.350         0.28             1.6      0.037   \n",
            "4503            5.8             0.610         0.01             8.4      0.041   \n",
            "3904            5.0             0.455         0.18             1.9      0.036   \n",
            "\n",
            "      free sulfur dioxide  total sulfur dioxide  density    pH  sulphates  \\\n",
            "3918                 31.0                 113.0  0.98779  3.12       0.40   \n",
            "4503                 31.0                 104.0  0.99090  3.26       0.72   \n",
            "3904                 33.0                 106.0  0.98746  3.21       0.83   \n",
            "\n",
            "      alcohol  quality  \n",
            "3918    14.20        7  \n",
            "4503    14.05        7  \n",
            "3904    14.00        7  \n"
          ]
        }
      ]
    }
  ]
}